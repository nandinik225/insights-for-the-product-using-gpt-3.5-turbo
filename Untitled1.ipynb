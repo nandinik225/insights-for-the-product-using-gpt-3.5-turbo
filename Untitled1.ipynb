{
 "cells": [
  {
   "cell_type": "code",
   "execution_count": 1,
   "id": "c3c688fe",
   "metadata": {
    "height": 132
   },
   "outputs": [],
   "source": [
    "import openai\n",
    "import os\n",
    "\n",
    "from dotenv import load_dotenv, find_dotenv\n",
    "_ = load_dotenv(find_dotenv())\n",
    "\n",
    "openai.api_key  = os.getenv('OPENAI_API_KEY')"
   ]
  },
  {
   "cell_type": "code",
   "execution_count": null,
   "id": "309cd16f",
   "metadata": {
    "height": 149
   },
   "outputs": [],
   "source": [
    "def get_completion(prompt, model=\"gpt-3.5-turbo\"):\n",
    "    messages = [{\"role\": \"user\", \"content\": prompt}]\n",
    "    response = openai.ChatCompletion.create(\n",
    "        model=model,\n",
    "        messages=messages,\n",
    "        temperature=0, # this is the degree of randomness of the model's output\n",
    "    )\n",
    "    return response.choices[0].message[\"content\"]"
   ]
  },
  {
   "cell_type": "code",
   "execution_count": null,
   "id": "62af9946",
   "metadata": {
    "height": 30
   },
   "outputs": [],
   "source": [
    "## Insights valuable to product from conversations "
   ]
  },
  {
   "cell_type": "code",
   "execution_count": null,
   "id": "0ca6c219",
   "metadata": {
    "height": 557
   },
   "outputs": [],
   "source": [
    "text = f\"\"\"\n",
    "Interviewer: Hello, thank you for joining us today. We're excited to get your feedback on our\n",
    "app.\n",
    "Interviewee: Hi, happy to be here. Overall, the app's been good.\n",
    "Interviewer: That's great to hear! Could you tell us more about your experience using the\n",
    "app?\n",
    "Interviewee: Sure. It's user-friendly, but more personalized features would enhance it.\n",
    "Interviewer: Personalization noted. What specific features would you like to see for a more\n",
    "fulfilling experience?\n",
    "Interviewee: Customizable notifications and tailored content based on my preferences would\n",
    "be fantastic.\n",
    "Interviewer: Noted. Now, are there any areas you feel could use improvement within the\n",
    "app?\n",
    "Interviewee: Occasionally, the app lags during peak hours. Improving its speed would be\n",
    "beneficial.\n",
    "Interviewer: Thank you for sharing that. We'll look into optimizing the app's performance. Any\n",
    "other areas?\n",
    "Interviewee: The search function could be more accurate. It sometimes misses relevant\n",
    "results.\n",
    "Interviewer: Understood. We'll work on refining the search algorithm. Any final thoughts or\n",
    "suggestions?\n",
    "Interviewee: Overall, I'm satisfied. Just a few tweaks would make the app even better.\n",
    "Interviewer: We appreciate your feedback. It's invaluable for us to enhance the app. Thank\n",
    "you for your time today.\n",
    "\"\"\"\n",
    "prompt = f\"\"\"\n",
    "Get insights in short and for each insights add titles related to the insights description in bold for the text delimited by triple backticks and Insight can be in any form but should be valuable from product or service\n",
    "improvement standpoint\n",
    "```{text}```\n",
    "\"\"\"\n",
    "response = get_completion(prompt)\n",
    "print(response)"
   ]
  },
  {
   "cell_type": "code",
   "execution_count": null,
   "id": "482ea434",
   "metadata": {
    "height": 30
   },
   "outputs": [],
   "source": [
    "## summarisation "
   ]
  },
  {
   "cell_type": "code",
   "execution_count": null,
   "id": "20ab15df",
   "metadata": {
    "height": 81
   },
   "outputs": [],
   "source": [
    "with open('healthy_diet.txt', 'r') as file:\n",
    "    file_content = file.read()\n",
    "\n",
    "print(file_content)"
   ]
  },
  {
   "cell_type": "code",
   "execution_count": null,
   "id": "4428028d",
   "metadata": {
    "height": 149
   },
   "outputs": [],
   "source": [
    "text = file_content\n",
    "prompt = f\"\"\"\n",
    "Summarize the text delimited by triple backticks \\ \n",
    "in short and also add the bold titles for Categories like diet for adult, diet for children etc.\n",
    "```{text}```\n",
    "\"\"\"\n",
    "response = get_completion(prompt)\n",
    "print(response)"
   ]
  },
  {
   "cell_type": "code",
   "execution_count": null,
   "id": "236e1263",
   "metadata": {
    "height": 30
   },
   "outputs": [],
   "source": [
    "## Story writing "
   ]
  },
  {
   "cell_type": "code",
   "execution_count": null,
   "id": "875d9d40",
   "metadata": {
    "height": 81
   },
   "outputs": [],
   "source": [
    "prompt = f\"\"\"\n",
    "write a short story starting with a horse killed a bug \"\"\"\n",
    "response = get_completion(prompt)\n",
    "print(response)"
   ]
  },
  {
   "cell_type": "code",
   "execution_count": null,
   "id": "dca59772",
   "metadata": {
    "height": 30
   },
   "outputs": [],
   "source": []
  }
 ],
 "metadata": {
  "kernelspec": {
   "display_name": "Python 3 (ipykernel)",
   "language": "python",
   "name": "python3"
  },
  "language_info": {
   "codemirror_mode": {
    "name": "ipython",
    "version": 3
   },
   "file_extension": ".py",
   "mimetype": "text/x-python",
   "name": "python",
   "nbconvert_exporter": "python",
   "pygments_lexer": "ipython3",
   "version": "3.9.16"
  }
 },
 "nbformat": 4,
 "nbformat_minor": 5
}
